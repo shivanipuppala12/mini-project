{
 "cells": [
  {
   "cell_type": "markdown",
   "metadata": {
    "colab_type": "text",
    "id": "-serv_IsbuLj"
   },
   "source": [
    "# **IMPORTING REQUIRED LIBRARIES**\n",
    "\n",
    "\n",
    "\n"
   ]
  },
  {
   "cell_type": "code",
   "execution_count": 3,
   "metadata": {
    "colab": {
     "base_uri": "https://localhost:8080/",
     "height": 71
    },
    "colab_type": "code",
    "id": "gvFJb5BNiX4d",
    "outputId": "6b10eccc-970f-4ea5-bd11-bb4ec6dc50ae"
   },
   "outputs": [
    {
     "ename": "ModuleNotFoundError",
     "evalue": "No module named 'keras'",
     "output_type": "error",
     "traceback": [
      "\u001b[1;31m---------------------------------------------------------------------------\u001b[0m",
      "\u001b[1;31mModuleNotFoundError\u001b[0m                       Traceback (most recent call last)",
      "Cell \u001b[1;32mIn[3], line 21\u001b[0m\n\u001b[0;32m     18\u001b[0m \u001b[38;5;28;01mfrom\u001b[39;00m \u001b[38;5;21;01msklearn\u001b[39;00m\u001b[38;5;21;01m.\u001b[39;00m\u001b[38;5;21;01mmodel_selection\u001b[39;00m \u001b[38;5;28;01mimport\u001b[39;00m train_test_split\n\u001b[0;32m     19\u001b[0m \u001b[38;5;28;01mfrom\u001b[39;00m \u001b[38;5;21;01msklearn\u001b[39;00m\u001b[38;5;21;01m.\u001b[39;00m\u001b[38;5;21;01mpreprocessing\u001b[39;00m \u001b[38;5;28;01mimport\u001b[39;00m StandardScaler\n\u001b[1;32m---> 21\u001b[0m \u001b[38;5;28;01mfrom\u001b[39;00m \u001b[38;5;21;01mkeras\u001b[39;00m\u001b[38;5;21;01m.\u001b[39;00m\u001b[38;5;21;01mutils\u001b[39;00m\u001b[38;5;21;01m.\u001b[39;00m\u001b[38;5;21;01mnp_utils\u001b[39;00m \u001b[38;5;28;01mimport\u001b[39;00m to_categorical\n\u001b[0;32m     22\u001b[0m \u001b[38;5;28;01mimport\u001b[39;00m \u001b[38;5;21;01mkeras\u001b[39;00m\n\u001b[0;32m     23\u001b[0m \u001b[38;5;28;01mfrom\u001b[39;00m \u001b[38;5;21;01mkeras\u001b[39;00m\u001b[38;5;21;01m.\u001b[39;00m\u001b[38;5;21;01mmodels\u001b[39;00m \u001b[38;5;28;01mimport\u001b[39;00m Model, Sequential\n",
      "\u001b[1;31mModuleNotFoundError\u001b[0m: No module named 'keras'"
     ]
    }
   ],
   "source": [
    "#pip install keras==2.3.0\n",
    "\n",
    "import pandas as pd\n",
    "import numpy as np\n",
    "import matplotlib.pyplot as plt\n",
    "import seaborn as sns\n",
    "%matplotlib inline\n",
    "\n",
    "#from google.colab import files\n",
    "import os\n",
    "import zipfile\n",
    "\n",
    "from glob import glob\n",
    "from PIL import Image as pil_image\n",
    "from matplotlib.pyplot import imshow, imsave\n",
    "from IPython.display import Image as Image\n",
    "\n",
    "from sklearn.model_selection import train_test_split\n",
    "from sklearn.preprocessing import StandardScaler\n",
    "\n",
    "from keras.utils.np_utils import to_categorical\n",
    "import keras\n",
    "from keras.models import Model, Sequential\n",
    "from keras.layers import Dense, Dropout, Flatten, Input, AveragePooling2D, merge, Activation\n",
    "from keras.layers import Conv2D, MaxPooling2D, BatchNormalization\n",
    "from keras.layers import Concatenate, GlobalAveragePooling2D\n",
    "from keras.optimizers import Adam, SGD\n",
    "from keras import regularizers, initializers\n",
    "from keras.layers.advanced_activations import LeakyReLU, ReLU, Softmax\n",
    "from keras.layers import Reshape, Activation, Conv2D, Input, MaxPooling2D, BatchNormalization, Flatten, Dense, Lambda\n",
    "from keras.layers.merge import concatenate\n",
    "from keras.preprocessing.image import ImageDataGenerator\n",
    "from keras.callbacks import *\n",
    "from keras.utils import plot_model\n",
    "from keras.models import load_model"
   ]
  },
  {
   "cell_type": "markdown",
   "metadata": {
    "colab_type": "text",
    "id": "AHzIKmTAc0MK"
   },
   "source": [
    "# **DATA ANALYSIS**"
   ]
  },
  {
   "cell_type": "code",
   "execution_count": null,
   "metadata": {
    "colab": {
     "base_uri": "https://localhost:8080/",
     "height": 204
    },
    "colab_type": "code",
    "id": "ys02uZQhi0C-",
    "outputId": "d8ee7f57-9d55-4f7c-8d30-0a925d321884"
   },
   "outputs": [],
   "source": [
    "# LOADING THE DATASET CSV IN PANDAS DATAFRAME\n",
    "main_df = pd.read_csv('HAM10000_metadata.csv')\n",
    "main_df.head()"
   ]
  },
  {
   "cell_type": "code",
   "execution_count": null,
   "metadata": {
    "colab": {
     "base_uri": "https://localhost:8080/",
     "height": 299
    },
    "colab_type": "code",
    "id": "cjhza08Ni1bw",
    "outputId": "c86bc5c3-4fef-4d62-c23e-253038114c75"
   },
   "outputs": [],
   "source": [
    "sns.countplot(main_df['dx'])"
   ]
  },
  {
   "cell_type": "code",
   "execution_count": null,
   "metadata": {
    "colab": {
     "base_uri": "https://localhost:8080/",
     "height": 153
    },
    "colab_type": "code",
    "id": "JoL65zOti23r",
    "outputId": "1436715f-cb52-49a6-bbdf-a959c36d37f1"
   },
   "outputs": [],
   "source": [
    "main_df['dx'].value_counts()"
   ]
  },
  {
   "cell_type": "code",
   "execution_count": null,
   "metadata": {
    "colab": {
     "base_uri": "https://localhost:8080/",
     "height": 601
    },
    "colab_type": "code",
    "id": "uBITJelYi4os",
    "outputId": "22564886-fb24-4e10-95fd-889f9a975351"
   },
   "outputs": [],
   "source": [
    "plt.figure(figsize=(10,8))\n",
    "sns.countplot(main_df['localization'])\n",
    "plt.xticks(rotation=90)"
   ]
  },
  {
   "cell_type": "code",
   "execution_count": null,
   "metadata": {
    "colab": {
     "base_uri": "https://localhost:8080/",
     "height": 298
    },
    "colab_type": "code",
    "id": "T0upButJi6KZ",
    "outputId": "b8fdbd06-2397-4b2d-e387-3d31b26b4298"
   },
   "outputs": [],
   "source": [
    "sns.countplot(main_df['dx_type'])"
   ]
  },
  {
   "cell_type": "code",
   "execution_count": null,
   "metadata": {
    "colab": {
     "base_uri": "https://localhost:8080/",
     "height": 102
    },
    "colab_type": "code",
    "id": "s5RB1aEMi7lW",
    "outputId": "9aeff4b9-9148-436d-8ce6-296a47063851"
   },
   "outputs": [],
   "source": [
    "main_df['dx_type'].value_counts()"
   ]
  },
  {
   "cell_type": "code",
   "execution_count": null,
   "metadata": {
    "colab": {
     "base_uri": "https://localhost:8080/",
     "height": 153
    },
    "colab_type": "code",
    "id": "CUF-3zkDi9Od",
    "outputId": "33ae558e-da70-4556-c48f-d4a07babdb14"
   },
   "outputs": [],
   "source": [
    "# FINDING THE NUMBER OF MISSING VALUES \n",
    "main_df.isna().sum().sort_values(ascending=False)"
   ]
  },
  {
   "cell_type": "code",
   "execution_count": null,
   "metadata": {
    "colab": {
     "base_uri": "https://localhost:8080/",
     "height": 51
    },
    "colab_type": "code",
    "id": "j-ye2BGai-yk",
    "outputId": "18a1acf2-6047-4aee-9e2c-28e4896de098"
   },
   "outputs": [],
   "source": [
    "print(main_df['age'].mean())\n",
    "print(main_df['age'].median())\n",
    "main_df['age'].fillna(main_df['age'].mean(),inplace=True)"
   ]
  },
  {
   "cell_type": "code",
   "execution_count": null,
   "metadata": {
    "colab": {
     "base_uri": "https://localhost:8080/",
     "height": 282
    },
    "colab_type": "code",
    "id": "y7m3IIqVjA3G",
    "outputId": "a52ab593-4da4-46a5-9b2f-1c20090ab355"
   },
   "outputs": [],
   "source": [
    "sns.kdeplot(main_df['age'],shade=True)"
   ]
  },
  {
   "cell_type": "code",
   "execution_count": null,
   "metadata": {
    "colab": {
     "base_uri": "https://localhost:8080/",
     "height": 85
    },
    "colab_type": "code",
    "id": "5xOFL4O2jCZJ",
    "outputId": "959ee26a-59c9-431f-b96a-cfa56ee3a3c4"
   },
   "outputs": [],
   "source": [
    "main_df['sex'].value_counts()"
   ]
  },
  {
   "cell_type": "code",
   "execution_count": null,
   "metadata": {
    "colab": {},
    "colab_type": "code",
    "id": "GakeQYvvjD37"
   },
   "outputs": [],
   "source": [
    "# CREATING A DICTIONARY TO FEED IN LABEL VALUES IN OUR DATAFRAME\n",
    "lesion_type_dict = {\n",
    "    'nv': 'Melanocytic nevi',\n",
    "    'mel': 'Melanoma',\n",
    "    'bkl': 'Benign keratosis-like lesions ',\n",
    "    'bcc': 'Basal cell carcinoma',\n",
    "    'akiec': 'Actinic keratoses',\n",
    "    'vasc': 'Vascular lesions',\n",
    "    'df': 'Dermatofibroma'\n",
    "}\n",
    "\n",
    "lesion_classes_dict = {\n",
    "    0: 'Melanocytic nevi',\n",
    "    1: 'Melanoma',\n",
    "    2: 'Benign keratosis-like lesions ',\n",
    "    3: 'Basal cell carcinoma',\n",
    "    4: 'Actinic keratoses',\n",
    "    5: 'Vascular lesions',\n",
    "    6: 'Dermatofibroma'\n",
    "}\n",
    "\n",
    "main_df['cell_type'] = main_df['dx'].map(lesion_type_dict)"
   ]
  },
  {
   "cell_type": "code",
   "execution_count": null,
   "metadata": {
    "colab": {},
    "colab_type": "code",
    "id": "8PKBVWr8jF63"
   },
   "outputs": [],
   "source": [
    "  main_df['cell_type_idx'] = pd.Categorical(main_df['cell_type']).codes"
   ]
  },
  {
   "cell_type": "code",
   "execution_count": null,
   "metadata": {
    "colab": {},
    "colab_type": "code",
    "id": "_Oh1xsJqjI3J"
   },
   "outputs": [],
   "source": [
    "# CREATING IMAGE PATH\n",
    "image_path = {os.path.splitext(os.path.basename(x))[0]: x for x in glob(os.path.join('', '*', '*.jpg'))}\n",
    "print(image_path)"
   ]
  },
  {
   "cell_type": "code",
   "execution_count": null,
   "metadata": {
    "colab": {
     "base_uri": "https://localhost:8080/",
     "height": 204
    },
    "colab_type": "code",
    "id": "a_25-cfHjLDk",
    "outputId": "1ee776a7-bbc4-46da-b4f8-45cd93133dc3"
   },
   "outputs": [],
   "source": [
    "main_df['path'] = main_df['image_id'].map(image_path.get)\n",
    "main_df.head()"
   ]
  },
  {
   "cell_type": "code",
   "execution_count": null,
   "metadata": {
    "colab": {},
    "colab_type": "code",
    "id": "EE2HX7xdjNJz"
   },
   "outputs": [],
   "source": [
    "image_example = np.asarray(pil_image.open(main_df['path'][0]))"
   ]
  },
  {
   "cell_type": "code",
   "execution_count": null,
   "metadata": {
    "colab": {
     "base_uri": "https://localhost:8080/",
     "height": 34
    },
    "colab_type": "code",
    "id": "8Rj870TzjOrs",
    "outputId": "54ac5456-0e33-4f10-c157-d57303e97d87"
   },
   "outputs": [],
   "source": [
    "image_example.shape"
   ]
  },
  {
   "cell_type": "code",
   "execution_count": null,
   "metadata": {
    "colab": {
     "base_uri": "https://localhost:8080/",
     "height": 286
    },
    "colab_type": "code",
    "id": "4imPucyjjQSb",
    "outputId": "bce3fdc7-5db3-4331-ec9d-052869fb20a4"
   },
   "outputs": [],
   "source": [
    "# PRINTING A SAMPLE IMAGE\n",
    "plt.imshow(image_example)"
   ]
  },
  {
   "cell_type": "code",
   "execution_count": null,
   "metadata": {
    "colab": {},
    "colab_type": "code",
    "id": "XRcIDEn4jRr1"
   },
   "outputs": [],
   "source": [
    "# RESIZING THE IMAGE TO SMALLER SIZE TO MAKE TRAINING EASY\n",
    "main_df['image'] = main_df['path'].map(lambda x: np.asarray(pil_image.open(x).resize((120,90))))"
   ]
  },
  {
   "cell_type": "code",
   "execution_count": null,
   "metadata": {
    "colab": {
     "base_uri": "https://localhost:8080/",
     "height": 340
    },
    "colab_type": "code",
    "id": "t5TlXJ85jTKb",
    "outputId": "d5f1c8ca-3c4c-4a20-dff0-b997dcf84e68"
   },
   "outputs": [],
   "source": [
    "main_df.head()"
   ]
  },
  {
   "cell_type": "code",
   "execution_count": null,
   "metadata": {
    "colab": {
     "base_uri": "https://localhost:8080/",
     "height": 285
    },
    "colab_type": "code",
    "id": "24xJOWvNjUbU",
    "outputId": "cec80872-b208-40da-a920-0034edb5f502"
   },
   "outputs": [],
   "source": [
    "plt.imshow(main_df['image'][0])"
   ]
  },
  {
   "cell_type": "code",
   "execution_count": null,
   "metadata": {
    "colab": {
     "base_uri": "https://localhost:8080/",
     "height": 34
    },
    "colab_type": "code",
    "id": "9igOG0pqjV6w",
    "outputId": "2e3e94b1-9ea2-4ab4-e43f-8ab9311633b5"
   },
   "outputs": [],
   "source": [
    "main_df['image'][0].shape"
   ]
  },
  {
   "cell_type": "markdown",
   "metadata": {
    "colab_type": "text",
    "id": "ffBzWbdadHdh"
   },
   "source": [
    "# **PRINTING IMAGES OF EACH CLASS**"
   ]
  },
  {
   "cell_type": "code",
   "execution_count": null,
   "metadata": {
    "colab": {
     "base_uri": "https://localhost:8080/",
     "height": 1000
    },
    "colab_type": "code",
    "id": "j_Ti8QAfjZA-",
    "outputId": "1980971f-1662-4520-cd1f-eec644ccce50"
   },
   "outputs": [],
   "source": [
    "\n",
    "fig,axes = plt.subplots(7,5,figsize=(20,21))\n",
    "for nth_axis,(cell_type_name,cell_type_row) in zip(axes,main_df.sort_values(['cell_type']).groupby('cell_type')):\n",
    "    nth_axis[0].set_title(cell_type_name)\n",
    "    for column_axis,(_,column_row) in zip(nth_axis,cell_type_row.sample(5).iterrows()):\n",
    "        column_axis.imshow(column_row['image'])  \n",
    "        column_axis.axis('off')"
   ]
  },
  {
   "cell_type": "markdown",
   "metadata": {
    "colab_type": "text",
    "id": "gg1dij-4eEp4"
   },
   "source": [
    "# **DATA PROCESSING AND MODELING**"
   ]
  },
  {
   "cell_type": "code",
   "execution_count": null,
   "metadata": {
    "colab": {},
    "colab_type": "code",
    "id": "AUbGCruzjZmU"
   },
   "outputs": [],
   "source": [
    "features = main_df.drop(['cell_type_idx'],axis=1)\n",
    "\n",
    "target = main_df['cell_type_idx']\n",
    "\n",
    "# SPLITTING THE DATASETS INTO TRAIN AND TEST SET\n",
    "X_TRAIN, X_TEST, Y_TRAIN, Y_TEST = train_test_split(features,target,test_size=0.01)"
   ]
  },
  {
   "cell_type": "code",
   "execution_count": null,
   "metadata": {
    "colab": {},
    "colab_type": "code",
    "id": "yuKj1t79jb09"
   },
   "outputs": [],
   "source": [
    "# CREATING IMAGE TRAINING AND TEST SET\n",
    "x_train = np.asarray(X_TRAIN['image'].tolist())\n",
    "x_test = np.asarray(X_TEST['image'].tolist())"
   ]
  },
  {
   "cell_type": "code",
   "execution_count": null,
   "metadata": {
    "colab": {
     "base_uri": "https://localhost:8080/",
     "height": 51
    },
    "colab_type": "code",
    "id": "hpipkLF-jd8w",
    "outputId": "7ca59c8d-5efe-48e4-8de7-45dcca7d8cd5"
   },
   "outputs": [],
   "source": [
    "print(x_train.shape)\n",
    "print(x_test.shape)"
   ]
  },
  {
   "cell_type": "code",
   "execution_count": null,
   "metadata": {
    "colab": {},
    "colab_type": "code",
    "id": "GsebBLMjjfoe"
   },
   "outputs": [],
   "source": [
    "train_mean = x_train.mean()\n",
    "train_std = x_train.std()\n",
    "test_mean = x_test.mean()\n",
    "test_std = x_test.std()"
   ]
  },
  {
   "cell_type": "code",
   "execution_count": null,
   "metadata": {
    "colab": {
     "base_uri": "https://localhost:8080/",
     "height": 85
    },
    "colab_type": "code",
    "id": "J4-fkzFYjjL8",
    "outputId": "70d2c657-673a-45ea-a7b0-286b65fcf8db"
   },
   "outputs": [],
   "source": [
    "print(train_mean)\n",
    "print(train_std)\n",
    "print(test_mean)\n",
    "print(test_std)"
   ]
  },
  {
   "cell_type": "markdown",
   "metadata": {
    "colab_type": "text",
    "id": "zuHtmgxLemU2"
   },
   "source": [
    "# **IMAGE STANDARDIZATION**"
   ]
  },
  {
   "cell_type": "code",
   "execution_count": null,
   "metadata": {
    "colab": {},
    "colab_type": "code",
    "id": "10-yTVn5jlX8"
   },
   "outputs": [],
   "source": [
    "x_train = (x_train-train_mean) / train_std\n",
    "x_test = (x_test-test_mean) / test_std"
   ]
  },
  {
   "cell_type": "code",
   "execution_count": null,
   "metadata": {
    "colab": {
     "base_uri": "https://localhost:8080/",
     "height": 51
    },
    "colab_type": "code",
    "id": "3N8VdfWEjl-F",
    "outputId": "b6b4eb40-0b69-4bd8-dbe8-2e295af7d31b"
   },
   "outputs": [],
   "source": [
    "print(Y_TRAIN.shape)\n",
    "print(Y_TEST.shape)"
   ]
  },
  {
   "cell_type": "code",
   "execution_count": null,
   "metadata": {
    "colab": {},
    "colab_type": "code",
    "id": "YxR4CTZSjnuR"
   },
   "outputs": [],
   "source": [
    "# CONVERTING NX1 TO NX7 SINCE WE HAVE 7 CLASSES \n",
    "y_train = to_categorical(Y_TRAIN,num_classes=7)\n",
    "y_test = to_categorical(Y_TEST,num_classes=7)"
   ]
  },
  {
   "cell_type": "code",
   "execution_count": null,
   "metadata": {
    "colab": {
     "base_uri": "https://localhost:8080/",
     "height": 51
    },
    "colab_type": "code",
    "id": "lZniXbkDjpWF",
    "outputId": "751ad074-2ecd-4d4a-8c6b-93738cfbaa3b"
   },
   "outputs": [],
   "source": [
    "print(y_train.shape)\n",
    "print(y_test.shape)"
   ]
  },
  {
   "cell_type": "code",
   "execution_count": null,
   "metadata": {
    "colab": {},
    "colab_type": "code",
    "id": "iLinhUxnjq_W"
   },
   "outputs": [],
   "source": [
    "X_train,X_val, Y_train,Y_val = train_test_split(x_train,y_train,test_size=0.15)"
   ]
  },
  {
   "cell_type": "code",
   "execution_count": null,
   "metadata": {
    "colab": {},
    "colab_type": "code",
    "id": "GCrmwWkkjsOl"
   },
   "outputs": [],
   "source": [
    "# RESHAPING SO THAT WE CAN FEED THIS INTO OUR NEURAL NETWORK\n",
    "X_train  = X_train.reshape(X_train.shape[0],90,120,3)\n",
    "x_test  = x_test.reshape(x_test.shape[0],90,120,3)\n",
    "X_val  = X_val.reshape(X_val.shape[0],90,120,3)"
   ]
  },
  {
   "cell_type": "code",
   "execution_count": null,
   "metadata": {
    "colab": {
     "base_uri": "https://localhost:8080/",
     "height": 68
    },
    "colab_type": "code",
    "id": "SWWEqzObjttU",
    "outputId": "0f5aebf1-b600-42aa-d199-ffe84b767ca0"
   },
   "outputs": [],
   "source": [
    "print(X_train.shape)\n",
    "print(x_test.shape)\n",
    "print(X_val.shape)"
   ]
  },
  {
   "cell_type": "markdown",
   "metadata": {
    "colab_type": "text",
    "id": "IQpb9VcdewCX"
   },
   "source": [
    "# **MODEL**"
   ]
  },
  {
   "cell_type": "code",
   "execution_count": null,
   "metadata": {
    "colab": {
     "base_uri": "https://localhost:8080/",
     "height": 51
    },
    "colab_type": "code",
    "id": "wzP2h3Wcr7l_",
    "outputId": "a48dddbc-57f9-4ca0-add1-95cc54826f87"
   },
   "outputs": [],
   "source": [
    "# COMMAND TO INSTALL KERAS OPTIMIZERS\n",
    "#pip install -q efficientnet\n",
    "#git clone https://github.com/bckenstler/CLR.git\n",
    "#pip install -q keras-radam\n",
    "#git clone https://github.com/bojone/accum_optimizer_for_keras.git\n",
    "#pip install -q keras-lr-multiplier"
   ]
  },
  {
   "cell_type": "code",
   "execution_count": null,
   "metadata": {},
   "outputs": [],
   "source": [
    "!pip install efficientnet"
   ]
  },
  {
   "cell_type": "code",
   "execution_count": null,
   "metadata": {
    "colab": {},
    "colab_type": "code",
    "id": "8CyCPhyQsBSP"
   },
   "outputs": [],
   "source": [
    "# IMPORTING THE EFFICIENTNETB3 MODEL\n",
    "import tensorflow as tf\n",
    "import keras\n",
    "import efficientnet.tfkeras as efn"
   ]
  },
  {
   "cell_type": "code",
   "execution_count": null,
   "metadata": {
    "colab": {},
    "colab_type": "code",
    "id": "ydP4QCv0sDd4"
   },
   "outputs": [],
   "source": [
    "# INITIALIZING THE MODEL\n",
    "model = efn.EfficientNetB3(weights ='noisy-student', include_top=False,\n",
    "                           input_shape = (90, 120, 3))"
   ]
  },
  {
   "cell_type": "code",
   "execution_count": null,
   "metadata": {
    "colab": {},
    "colab_type": "code",
    "id": "mUMaCBNgsGge"
   },
   "outputs": [],
   "source": [
    "# IMPORTING LIBRARIES\n",
    "from tensorflow.keras.layers import GlobalAveragePooling2D,Dropout,Dense\n",
    "from tensorflow.keras.callbacks import ModelCheckpoint,ReduceLROnPlateau\n",
    "from tensorflow.keras.optimizers import Adam\n",
    "import tensorflow.keras.backend as K\n",
    "from tensorflow.keras.models import Sequential,Model"
   ]
  },
  {
   "cell_type": "code",
   "execution_count": null,
   "metadata": {
    "colab": {},
    "colab_type": "code",
    "id": "x-AoTYCZsp81"
   },
   "outputs": [],
   "source": [
    "# MAKING CHANGES IN THE OUTPUT LAYER OF EFFICIENTNETB3 MODEL\n",
    "x = model.output\n",
    "x = GlobalAveragePooling2D()(x)\n",
    "x = Dropout(0.3)(x)\n",
    "x = Dense(128, activation=\"relu\")(x)\n",
    "x = Dropout(0.3)(x)\n",
    "x = Dense(64, activation=\"relu\")(x)\n",
    "predictions = Dense(7, activation=\"softmax\")(x)\n",
    "model = Model(inputs=model.input, outputs=predictions)"
   ]
  },
  {
   "cell_type": "code",
   "execution_count": null,
   "metadata": {
    "colab": {},
    "colab_type": "code",
    "id": "-GKQoCh6jyAI"
   },
   "outputs": [],
   "source": [
    "# COMPILING THE MODEL\n",
    "model.compile(optimizer = Adam(0.001) , loss = \"categorical_crossentropy\", metrics=['accuracy'])"
   ]
  },
  {
   "cell_type": "code",
   "execution_count": null,
   "metadata": {
    "colab": {},
    "colab_type": "code",
    "id": "fFqCAHljjz-b"
   },
   "outputs": [],
   "source": [
    "# SET A LEARNING RATE ANNEALER\n",
    "learning_rate_reduction = ReduceLROnPlateau(monitor='val_loss',\n",
    "                                            patience=3, \n",
    "                                            factor=0.5, \n",
    "                                            min_lr=0.000001)"
   ]
  },
  {
   "cell_type": "markdown",
   "metadata": {
    "colab_type": "text",
    "id": "gf9pLhUnfSSY"
   },
   "source": [
    "# **TRAINING THE DATA**"
   ]
  },
  {
   "cell_type": "code",
   "execution_count": null,
   "metadata": {
    "colab": {
     "base_uri": "https://localhost:8080/",
     "height": 714
    },
    "colab_type": "code",
    "id": "DgJml1Fij3wU",
    "outputId": "2258f495-1e45-4e1d-c8aa-5d3893af9f7f"
   },
   "outputs": [],
   "source": [
    "# WITH DATA AUGMENTATION TO PREVENT OVERFITTING\n",
    "\n",
    "datagen = ImageDataGenerator(\n",
    "        rotation_range=10,  # RANDOMLY ROTATE IMAGES IN THE RANGE (0 - 180)\n",
    "        zoom_range = 0.1 # RANDOMLY ZOOM IMAGES \n",
    ")\n",
    "\n",
    "\n",
    "# FIT THE MODEL\n",
    "epochs = 20\n",
    "batch_size = 16\n",
    "model.fit_generator(datagen.flow(X_train,Y_train, batch_size=batch_size),\n",
    "                              epochs = epochs, validation_data = (X_val,Y_val),\n",
    "                              verbose = 1, steps_per_epoch=X_train.shape[0] // batch_size\n",
    "                              , callbacks=[learning_rate_reduction])"
   ]
  },
  {
   "cell_type": "markdown",
   "metadata": {
    "colab_type": "text",
    "id": "ymyg_UMVf2-n"
   },
   "source": [
    "# **PLOTTING GRAPH**"
   ]
  },
  {
   "cell_type": "code",
   "execution_count": null,
   "metadata": {
    "colab": {
     "base_uri": "https://localhost:8080/",
     "height": 336
    },
    "colab_type": "code",
    "id": "lsGPcAuQj6OG",
    "outputId": "bd30b3ea-3f08-42bd-d53f-895aa47ab52f"
   },
   "outputs": [],
   "source": [
    "def plot_(history):\n",
    "    acc = history.history['acc']\n",
    "    val_acc = history.history['val_acc']\n",
    "\n",
    "    loss = history.history['loss']\n",
    "    val_loss = history.history['val_loss']\n",
    "\n",
    "    f, [ax1, ax2] = plt.subplots(1,2, figsize=(15, 5))\n",
    "    ax1.plot(range(len(acc)), acc, label=\"accuracy\")\n",
    "    ax1.plot(range(len(acc)), val_acc, label=\"val_accuracy\")\n",
    "    ax1.set_title(\"Training Accuracy vs Validation Accuracy\")\n",
    "    ax1.legend()\n",
    "\n",
    "    ax2.plot(range(len(loss)), loss, label=\"loss\")\n",
    "    ax2.plot(range(len(loss)), val_loss, label=\"val_loss\")\n",
    "    ax2.set_title(\"Training Loss vs Validation Loss\")\n",
    "    ax2.legend()\n",
    "    \n",
    "    \n",
    "plot_(model.history)"
   ]
  },
  {
   "cell_type": "code",
   "execution_count": null,
   "metadata": {
    "colab": {
     "base_uri": "https://localhost:8080/",
     "height": 34
    },
    "colab_type": "code",
    "id": "vsTXoloxkAH-",
    "outputId": "6381f15e-5399-4299-b9aa-8d78dab5c643"
   },
   "outputs": [],
   "source": [
    "# PRINTING THE ACCURACY OF THE MODEL\n",
    "print(\"MAXIMUM ACCURACY : \",\n",
    "      round(max(model.history.history[\"val_acc\"])*100,4))"
   ]
  },
  {
   "cell_type": "markdown",
   "metadata": {
    "colab_type": "text",
    "id": "-aUTKCy6gGZo"
   },
   "source": [
    "# **SAVING THE MODEL**"
   ]
  },
  {
   "cell_type": "code",
   "execution_count": null,
   "metadata": {
    "colab": {},
    "colab_type": "code",
    "id": "tOMzb4hPApYM"
   },
   "outputs": [],
   "source": [
    "model.save(\"model.h5\")"
   ]
  },
  {
   "cell_type": "code",
   "execution_count": null,
   "metadata": {},
   "outputs": [],
   "source": [
    "model = efn.EfficientNetB3(weights ='noisy-student', include_top=False,\n",
    "                           input_shape = (90, 120, 3))\n",
    "x = model.output\n",
    "x = GlobalAveragePooling2D()(x)\n",
    "x = Dropout(0.3)(x)\n",
    "x = Dense(128, activation=\"relu\")(x)\n",
    "x = Dropout(0.3)(x)\n",
    "x = Dense(64, activation=\"relu\")(x)\n",
    "predictions = Dense(7, activation=\"softmax\")(x)\n",
    "model = Model(inputs=model.input, outputs=predictions)\n",
    "model.compile(optimizer = Adam(0.001) , loss = \"categorical_crossentropy\", metrics=['accuracy'])\n",
    "\n",
    "model.save_weights(\"model.h5\")"
   ]
  },
  {
   "cell_type": "markdown",
   "metadata": {
    "colab_type": "text",
    "id": "CqjUzH19gpEx"
   },
   "source": [
    "# **PREDICTION OF IMAGE**"
   ]
  },
  {
   "cell_type": "code",
   "execution_count": null,
   "metadata": {
    "colab": {},
    "colab_type": "code",
    "id": "8KHnMHVOkKjK"
   },
   "outputs": [],
   "source": [
    "# RESIZING THE IMAGE\n",
    "resized_image = np.asarray(pil_image.open('C:\\\\Users\\\\shiva\\\\Desktop\\\\project\\\\SkinCancer\\\\Code\\\\HAM10000_images_part_2\\\\ISIC_0029310.jpg').resize((120,90)))\n",
    "image_array = np.asarray(resized_image.tolist())\n",
    "test_image = image_array.reshape(1,90,120,3)"
   ]
  },
  {
   "cell_type": "code",
   "execution_count": null,
   "metadata": {
    "colab": {},
    "colab_type": "code",
    "id": "gqVGzgz1kNTJ"
   },
   "outputs": [],
   "source": [
    "prediction_class = model.predict(test_image)\n",
    "prediction_class = nphttp://localhost:8888/notebooks/SKIN_CANCER_PREDICTION.ipynb#.argmax(prediction_class,axis=1)"
   ]
  },
  {
   "cell_type": "code",
   "execution_count": null,
   "metadata": {
    "colab": {
     "base_uri": "https://localhost:8080/",
     "height": 34
    },
    "colab_type": "code",
    "id": "0-I-jZ1sAy5n",
    "outputId": "9da52d50-e30c-4c1c-cc72-44754b06630a"
   },
   "outputs": [],
   "source": [
    "prediction_class"
   ]
  },
  {
   "cell_type": "code",
   "execution_count": null,
   "metadata": {},
   "outputs": [],
   "source": [
    "# PREDICTING THE IMAGE\n",
    "lesion_classes_dict[prediction_class[0]]"
   ]
  },
  {
   "cell_type": "code",
   "execution_count": null,
   "metadata": {},
   "outputs": [],
   "source": []
  },
  {
   "cell_type": "code",
   "execution_count": null,
   "metadata": {},
   "outputs": [],
   "source": []
  },
  {
   "cell_type": "code",
   "execution_count": null,
   "metadata": {},
   "outputs": [],
   "source": []
  },
  {
   "cell_type": "code",
   "execution_count": null,
   "metadata": {},
   "outputs": [],
   "source": []
  },
  {
   "cell_type": "code",
   "execution_count": null,
   "metadata": {},
   "outputs": [],
   "source": []
  },
  {
   "cell_type": "code",
   "execution_count": null,
   "metadata": {},
   "outputs": [],
   "source": []
  },
  {
   "cell_type": "code",
   "execution_count": null,
   "metadata": {},
   "outputs": [],
   "source": []
  },
  {
   "cell_type": "code",
   "execution_count": null,
   "metadata": {},
   "outputs": [],
   "source": [
    "\n"
   ]
  },
  {
   "cell_type": "code",
   "execution_count": null,
   "metadata": {},
   "outputs": [],
   "source": []
  },
  {
   "cell_type": "code",
   "execution_count": null,
   "metadata": {},
   "outputs": [],
   "source": []
  },
  {
   "cell_type": "code",
   "execution_count": null,
   "metadata": {},
   "outputs": [],
   "source": []
  },
  {
   "cell_type": "code",
   "execution_count": null,
   "metadata": {},
   "outputs": [],
   "source": []
  },
  {
   "cell_type": "code",
   "execution_count": null,
   "metadata": {},
   "outputs": [],
   "source": []
  },
  {
   "cell_type": "code",
   "execution_count": null,
   "metadata": {},
   "outputs": [],
   "source": []
  }
 ],
 "metadata": {
  "accelerator": "GPU",
  "colab": {
   "collapsed_sections": [],
   "name": "SKIN_CANCER_PREDICTION.ipynb",
   "provenance": []
  },
  "kernelspec": {
   "display_name": "Python 3 (ipykernel)",
   "language": "python",
   "name": "python3"
  },
  "language_info": {
   "codemirror_mode": {
    "name": "ipython",
    "version": 3
   },
   "file_extension": ".py",
   "mimetype": "text/x-python",
   "name": "python",
   "nbconvert_exporter": "python",
   "pygments_lexer": "ipython3",
   "version": "3.11.5"
  }
 },
 "nbformat": 4,
 "nbformat_minor": 1
}
